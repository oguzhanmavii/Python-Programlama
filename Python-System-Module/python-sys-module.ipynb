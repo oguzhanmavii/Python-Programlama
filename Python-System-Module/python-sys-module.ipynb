{
 "cells": [
  {
   "cell_type": "markdown",
   "id": "b1bdbd5a-703f-42ee-bf4e-da5ea0ded217",
   "metadata": {},
   "source": [
    "__Python'da Sys module Nedir ?__"
   ]
  },
  {
   "cell_type": "markdown",
   "id": "a31083d1-f215-4374-a25d-3a92f0d2e0bc",
   "metadata": {},
   "source": [
    "Tıpkı os modülü gibi, sys de Python programlama dilindeki önemli standart kütüphane modüllerinden biridir. Bu modül, kullandığınız Python sürümü ile ilgili bilgi edinmenizi ve kullandığınız Python sürümü ile çeşitli işlemler yapabilmenizi sağlar."
   ]
  },
  {
   "cell_type": "markdown",
   "id": "6dfc1eae-354e-4a51-aa08-71744b103523",
   "metadata": {
    "jp-MarkdownHeadingCollapsed": true,
    "tags": []
   },
   "source": [
    "## dir(sys)"
   ]
  },
  {
   "cell_type": "code",
   "execution_count": 1,
   "id": "9b9462a5-9cb3-4958-9d49-334cb6281b5c",
   "metadata": {},
   "outputs": [
    {
     "name": "stdout",
     "output_type": "stream",
     "text": [
      "['__breakpointhook__', '__displayhook__', '__doc__', '__excepthook__', '__interactivehook__', '__loader__', '__name__', '__package__', '__spec__', '__stderr__', '__stdin__', '__stdout__', '__unraisablehook__', '_base_executable', '_clear_type_cache', '_current_frames', '_debugmallocstats', '_framework', '_getframe', '_git', '_home', '_xoptions', 'abiflags', 'addaudithook', 'api_version', 'argv', 'audit', 'base_exec_prefix', 'base_prefix', 'breakpointhook', 'builtin_module_names', 'byteorder', 'call_tracing', 'copyright', 'displayhook', 'dont_write_bytecode', 'exc_info', 'excepthook', 'exec_prefix', 'executable', 'exit', 'flags', 'float_info', 'float_repr_style', 'get_asyncgen_hooks', 'get_coroutine_origin_tracking_depth', 'getallocatedblocks', 'getdefaultencoding', 'getdlopenflags', 'getfilesystemencodeerrors', 'getfilesystemencoding', 'getprofile', 'getrecursionlimit', 'getrefcount', 'getsizeof', 'getswitchinterval', 'gettrace', 'hash_info', 'hexversion', 'implementation', 'int_info', 'intern', 'is_finalizing', 'maxsize', 'maxunicode', 'meta_path', 'modules', 'path', 'path_hooks', 'path_importer_cache', 'platform', 'platlibdir', 'prefix', 'ps1', 'ps2', 'ps3', 'pycache_prefix', 'set_asyncgen_hooks', 'set_coroutine_origin_tracking_depth', 'setdlopenflags', 'setprofile', 'setrecursionlimit', 'setswitchinterval', 'settrace', 'stderr', 'stdin', 'stdout', 'thread_info', 'unraisablehook', 'version', 'version_info', 'warnoptions']\n"
     ]
    }
   ],
   "source": [
    "import sys\n",
    "sys_dir=dir(sys)\n",
    "print(sys_dir)"
   ]
  },
  {
   "cell_type": "markdown",
   "id": "160d2deb-a7d2-47b6-bcde-34d8bdcbded3",
   "metadata": {
    "jp-MarkdownHeadingCollapsed": true,
    "tags": []
   },
   "source": [
    "## sys.exit()\n",
    "sys modülünün exit() fonksiyonunu kullanarak, programınızın işleyişini durdurabilir, programınızı kapanmaya zorlayabilirsiniz. Basit bir örnek verelim"
   ]
  },
  {
   "cell_type": "code",
   "execution_count": 19,
   "id": "895c6e16-ecf7-4c4d-8fba-e3024740b872",
   "metadata": {},
   "outputs": [
    {
     "name": "stdin",
     "output_type": "stream",
     "text": [
      "Bir sayı girin:  -1\n"
     ]
    },
    {
     "name": "stdout",
     "output_type": "stream",
     "text": [
      "çıkılıyor...\n",
      "Errors: SystemExit:0\n"
     ]
    }
   ],
   "source": [
    "import sys\n",
    "\n",
    "try:\n",
    "    sayi = input('Bir sayı girin: ')\n",
    "    if int(sayi) < 0:\n",
    "        print('çıkılıyor...')\n",
    "        sys.exit()    \n",
    "    else:\n",
    "         print(sayi)\n",
    "except:\n",
    "       print(\"Errors: SystemExit:0\")"
   ]
  },
  {
   "cell_type": "markdown",
   "id": "18178eab-cf63-4824-b825-19ce5864570c",
   "metadata": {},
   "source": [
    "Eğer kullanıcı 0’dan küçük bir sayı girerse programımız __sys.exit()__ komutunun etkisiyle çalışmayı durdurup kapanacaktır."
   ]
  },
  {
   "cell_type": "markdown",
   "id": "c2a259b2-b2fd-48df-a530-cfde296aff47",
   "metadata": {
    "jp-MarkdownHeadingCollapsed": true,
    "tags": []
   },
   "source": [
    "## sys.argv\n",
    "sys modülünün argv niteliği, yazdığımız program çalıştırılırken kullanılan parametreleri bir liste halinde tutar."
   ]
  },
  {
   "cell_type": "code",
   "execution_count": 20,
   "id": "9a87a66d-d7ea-400d-a37a-0ae787d1c439",
   "metadata": {},
   "outputs": [
    {
     "name": "stdout",
     "output_type": "stream",
     "text": [
      "['/opt/tljh/user/lib/python3.9/site-packages/ipykernel_launcher.py', '-f', '/home/jupyter-tarkanoguzhan/.local/share/jupyter/runtime/kernel-5754b12d-3844-422b-9a20-f408e528a009.json']\n"
     ]
    }
   ],
   "source": [
    "import sys \n",
    "result=sys.argv\n",
    "print(result)"
   ]
  },
  {
   "cell_type": "markdown",
   "id": "fa2af8f2-74b8-48e8-9bfd-13318f921852",
   "metadata": {},
   "source": [
    "Gördüğünüz gibi, sys.argv komutu bize bir liste veriyor. Bu listenin ilk öğesi, yazdığımız programın adı."
   ]
  },
  {
   "cell_type": "markdown",
   "id": "8ebd03b9-7bc5-4314-9750-cd55a6d5861e",
   "metadata": {
    "jp-MarkdownHeadingCollapsed": true,
    "tags": []
   },
   "source": [
    "## sys.executable\n",
    "Eğer, yazdığınız bir programda, programınızın çalıştığı sistemdeki Python’ın çalıştırılabilir dosyasının adını ve yolunu öğrenmeniz gerekirse bu niteliği kullanabilirsiniz:"
   ]
  },
  {
   "cell_type": "code",
   "execution_count": 21,
   "id": "b8aa4c4f-81d1-464b-827d-b6d4611d4d1d",
   "metadata": {},
   "outputs": [
    {
     "name": "stdout",
     "output_type": "stream",
     "text": [
      "/opt/tljh/user/bin/python\n"
     ]
    }
   ],
   "source": [
    "import os \n",
    "result=sys.executable\n",
    "print(result)"
   ]
  },
  {
   "cell_type": "markdown",
   "id": "d176c15d-4587-4199-bcd8-29ca55e0fbbd",
   "metadata": {
    "jp-MarkdownHeadingCollapsed": true,
    "tags": []
   },
   "source": [
    "## sys.path\n",
    "sys modülü üzerinde dir() fonksiyonunu uyguladığınızda, orada __path__ adlı bir niteliğe ait pek çok önemli fonksiyon ve başka nitelik barındırır."
   ]
  },
  {
   "cell_type": "code",
   "execution_count": 24,
   "id": "2490f215-faca-46c2-b2bd-7760e97e562e",
   "metadata": {},
   "outputs": [
    {
     "name": "stdout",
     "output_type": "stream",
     "text": [
      "['__add__', '__class__', '__class_getitem__', '__contains__', '__delattr__', '__delitem__', '__dir__', '__doc__', '__eq__', '__format__', '__ge__', '__getattribute__', '__getitem__', '__gt__', '__hash__', '__iadd__', '__imul__', '__init__', '__init_subclass__', '__iter__', '__le__', '__len__', '__lt__', '__mul__', '__ne__', '__new__', '__reduce__', '__reduce_ex__', '__repr__', '__reversed__', '__rmul__', '__setattr__', '__setitem__', '__sizeof__', '__str__', '__subclasshook__', 'append', 'clear', 'copy', 'count', 'extend', 'index', 'insert', 'pop', 'remove', 'reverse', 'sort']\n"
     ]
    }
   ],
   "source": [
    "import sys\n",
    "result=dir(sys.path)\n",
    "print(result)"
   ]
  },
  {
   "cell_type": "markdown",
   "id": "175df680-7f62-4bb9-a611-fa51dff66468",
   "metadata": {},
   "source": [
    "burada sys modülünün path içerigine ait fonksiyon ve nitelikleri gördük"
   ]
  },
  {
   "cell_type": "code",
   "execution_count": 27,
   "id": "d119d605-e192-4632-b97c-45b0335dd76b",
   "metadata": {},
   "outputs": [
    {
     "name": "stdout",
     "output_type": "stream",
     "text": [
      "['/home/jupyter-tarkanoguzhan', '/opt/tljh/user/lib/python39.zip', '/opt/tljh/user/lib/python3.9', '/opt/tljh/user/lib/python3.9/lib-dynload', '', '/opt/tljh/user/lib/python3.9/site-packages']\n"
     ]
    }
   ],
   "source": [
    "import sys\n",
    "result=sys.path\n",
    "print(result)"
   ]
  },
  {
   "cell_type": "markdown",
   "id": "2cbc5152-38f2-4435-9d46-b3386fe2f5e7",
   "metadata": {},
   "source": [
    "buradaki fark ise bulundugumuz dizin üzerindeki pathleri göstermesidir"
   ]
  },
  {
   "cell_type": "markdown",
   "id": "cbdf3ff8-2427-4178-9ecc-5352693c3118",
   "metadata": {
    "jp-MarkdownHeadingCollapsed": true,
    "tags": []
   },
   "source": [
    "## sys.platform\n",
    "os modülünü incelerken öğrendiğimiz name niteliği gibi, sys modülünün platform adlı niteliği de, kodlarımızın çalıştığı __işletim sistemi__ hakkında bize bilgi verir"
   ]
  },
  {
   "cell_type": "code",
   "execution_count": 28,
   "id": "56d4ae2f-5fba-4710-a28c-50a58fc5b9cb",
   "metadata": {},
   "outputs": [
    {
     "name": "stdout",
     "output_type": "stream",
     "text": [
      "linux\n"
     ]
    }
   ],
   "source": [
    "import sys \n",
    "result=sys.platform\n",
    "print(result)"
   ]
  },
  {
   "cell_type": "markdown",
   "id": "acb8b17a-bf32-4340-bc70-8a95cf09c1fd",
   "metadata": {
    "jp-MarkdownHeadingCollapsed": true,
    "tags": []
   },
   "source": [
    "## sys.prefix\n",
    "sys modülünün prefix niteliği Python’ın hangi dizine kurulduğunu gösterir"
   ]
  },
  {
   "cell_type": "code",
   "execution_count": 29,
   "id": "85d04b16-9cba-4fd5-a897-e80161dc81bb",
   "metadata": {},
   "outputs": [
    {
     "name": "stdout",
     "output_type": "stream",
     "text": [
      "/opt/tljh/user\n"
     ]
    }
   ],
   "source": [
    "import sys\n",
    "result=sys.prefix\n",
    "print(result)"
   ]
  },
  {
   "cell_type": "markdown",
   "id": "140c3faa-22f1-42c4-9952-e69dfbcb62e4",
   "metadata": {
    "jp-MarkdownHeadingCollapsed": true,
    "tags": []
   },
   "source": [
    "## sys.ps1\n",
    "sys modülünün ps1 niteliği, etkileşimli kabuktaki ‘>>>’ işaretini tutar"
   ]
  },
  {
   "cell_type": "code",
   "execution_count": 49,
   "id": "0ad3db4f-3ee3-4ee8-8014-9a2b8b8fc1fc",
   "metadata": {},
   "outputs": [
    {
     "data": {
      "text/plain": [
       "'+++'"
      ]
     },
     "execution_count": 49,
     "metadata": {},
     "output_type": "execute_result"
    }
   ],
   "source": [
    "import sys\n",
    "sys.ps1='+++'\n",
    "sys.ps1"
   ]
  },
  {
   "cell_type": "markdown",
   "id": "1f8b713a-d1d4-4922-9989-d3b706d40438",
   "metadata": {},
   "source": [
    "sys.ps1 = '+++ ' Bu komutu verdikten sonra ‘>>>’ işaretinin ‘+++’ olarak değiştiğini göreceksiniz."
   ]
  },
  {
   "cell_type": "markdown",
   "id": "64c9e5d0-2354-444b-91ba-f426d97652c1",
   "metadata": {
    "jp-MarkdownHeadingCollapsed": true,
    "tags": []
   },
   "source": [
    "## sys.version\n",
    "sys modülünün version niteliği kullandığınız Python sürümüne ilişkin ayrıntılı bilgi verir"
   ]
  },
  {
   "cell_type": "code",
   "execution_count": 50,
   "id": "84e60ff9-ddaf-40aa-9322-a3635902f546",
   "metadata": {},
   "outputs": [
    {
     "name": "stdout",
     "output_type": "stream",
     "text": [
      "3.9.7 | packaged by conda-forge | (default, Sep 29 2021, 19:20:46) \n",
      "[GCC 9.4.0]\n"
     ]
    }
   ],
   "source": [
    "import sys\n",
    "result=sys.version\n",
    "print(result)"
   ]
  },
  {
   "cell_type": "markdown",
   "id": "221fb809-5fb3-479d-b7c7-3fdddeae052e",
   "metadata": {
    "jp-MarkdownHeadingCollapsed": true,
    "tags": []
   },
   "source": [
    "## sys.version_info\n",
    "sys modülünün version_info niteliği de kullandığınız Python sürümüne ilişkin bilgi verir"
   ]
  },
  {
   "cell_type": "code",
   "execution_count": 51,
   "id": "ac79ac8d-5394-45ec-89e0-f6c0f63b2ea1",
   "metadata": {},
   "outputs": [
    {
     "name": "stdout",
     "output_type": "stream",
     "text": [
      "sys.version_info(major=3, minor=9, micro=7, releaselevel='final', serial=0)\n"
     ]
    }
   ],
   "source": [
    "import sys\n",
    "result=sys.version_info\n",
    "print(result)"
   ]
  },
  {
   "cell_type": "markdown",
   "id": "70adf2cf-226a-4d09-8f12-95de5556eb0d",
   "metadata": {},
   "source": [
    "bu nitelik kendi içinde birtakım başka nitelikler barındırır"
   ]
  },
  {
   "cell_type": "code",
   "execution_count": 56,
   "id": "a521ce45-577d-4a9e-ac21-45e58d75f044",
   "metadata": {},
   "outputs": [
    {
     "name": "stdout",
     "output_type": "stream",
     "text": [
      "['__add__', '__class__', '__class_getitem__', '__contains__', '__delattr__', '__dir__', '__doc__', '__eq__', '__format__', '__ge__', '__getattribute__', '__getitem__', '__getnewargs__', '__gt__', '__hash__', '__init__', '__init_subclass__', '__iter__', '__le__', '__len__', '__lt__', '__mul__', '__ne__', '__new__', '__reduce__', '__reduce_ex__', '__repr__', '__rmul__', '__setattr__', '__sizeof__', '__str__', '__subclasshook__', 'count', 'index', 'major', 'micro', 'minor', 'n_fields', 'n_sequence_fields', 'n_unnamed_fields', 'releaselevel', 'serial']\n"
     ]
    }
   ],
   "source": [
    "import sys\n",
    "result=dir(sys.version_info)\n",
    "print(result)"
   ]
  },
  {
   "cell_type": "markdown",
   "id": "e39a3836-f9c6-4f93-b095-9d2e894d48c0",
   "metadata": {},
   "source": [
    "Bu niteliklere nasıl ulaşacağınızı biliyorsunuz\n",
    "\n",
    "<li>sys.version_info.major #büyük sürüm numarası</li>\n",
    "<li>sys.version_info.minor #küçük sürüm numarası</li>\n",
    "<li>sys.version_info.micro #minik sürüm numarası</li>"
   ]
  },
  {
   "cell_type": "markdown",
   "id": "aae22bdb-1e0d-4ad2-b0d5-7363e128a76c",
   "metadata": {
    "jp-MarkdownHeadingCollapsed": true,
    "tags": []
   },
   "source": [
    "## sys.winver\n",
    "sys modülünün winver niteliği Python’ın büyük sürüm numarasıyla küçük sürüm numarasını verir"
   ]
  },
  {
   "cell_type": "code",
   "execution_count": 63,
   "id": "e5cd5a77-49fe-4745-acbd-a9e346e2a83c",
   "metadata": {},
   "outputs": [],
   "source": [
    "import sys\n",
    "sys.winver"
   ]
  },
  {
   "cell_type": "markdown",
   "id": "68726ee0-ad96-42a9-a730-5a6110117818",
   "metadata": {},
   "source": [
    "__Bu nitelik yalnızca Windows’ta çalışır; GNU/Linux’ta tanımlı değildir.__"
   ]
  },
  {
   "cell_type": "markdown",
   "id": "1b543ec5-792e-4691-a1ff-22748b6aabf4",
   "metadata": {
    "jp-MarkdownHeadingCollapsed": true,
    "tags": []
   },
   "source": [
    "## sys.stdout\n",
    "stdout, ‘standart çıktı konumu’, yani programlarımızın çıktılarını standart olarak verdikleri konum anlamına geliyor.\n",
    "Python’da yazdığımız programlar çıktılarını standart olarak komut satırına verir. Yani mesela: __print('merhaba sysline')__"
   ]
  },
  {
   "cell_type": "code",
   "execution_count": 64,
   "id": "b4e36cf7-2614-48d8-9660-ceffcf618a62",
   "metadata": {},
   "outputs": [
    {
     "name": "stdout",
     "output_type": "stream",
     "text": [
      "merhaba sysline"
     ]
    },
    {
     "data": {
      "text/plain": [
       "15"
      ]
     },
     "execution_count": 64,
     "metadata": {},
     "output_type": "execute_result"
    }
   ],
   "source": [
    "import sys\n",
    "sys.stdout.write('merhaba sysline')"
   ]
  },
  {
   "cell_type": "markdown",
   "id": "d975dfce-af57-4320-8adb-dd21fb8ac4cd",
   "metadata": {},
   "source": [
    "Not : Burada, çıktının sonundaki 15 sayısı ‘merhaba sysline’ karakter dizisinin uzunluğunu gösteriyor.__sys.stdout.write()__ fonksiyonu etkileşimli kabukta kullanıldığında böyle bir çıktı verir. Ama eğer bu kodları bir dosyaya yazıp çalıştırırsanız sonraki 15 sayısı görünmez.\n",
    "\n"
   ]
  },
  {
   "cell_type": "markdown",
   "id": "e8017acf-e875-414e-ac3d-216409cb690d",
   "metadata": {},
   "source": [
    "Bu arada, her ne kadar print() ve sys.stdout.write() birbirine benzese de aralarında önemli farklar bulunur. Örneğin __print()__ fonksiyonu parametre olarak __her türlü veri tipini__ alabilir.Ancak __sys.stdout.write()__ fonksiyonu parametre olarak __yalnızca karakter__ dizisi alabilir"
   ]
  },
  {
   "cell_type": "markdown",
   "id": "915aa80b-7e65-4ebb-b4c0-76bd0690bb81",
   "metadata": {
    "jp-MarkdownHeadingCollapsed": true,
    "tags": []
   },
   "source": [
    "## sys.stderr\n",
    "Python’da hata mesajlarının öntanımlı olarak basıldığı yer komut satırıdır.<br>hataların standart olarak basıldığı yeri de teknik olarak ‘standart hata konumu’ (Standard Error - stderr) olarak adlandırıyoruz."
   ]
  },
  {
   "cell_type": "code",
   "execution_count": null,
   "id": "5669ff84-9f29-4d8c-916a-927d2413914e",
   "metadata": {},
   "outputs": [],
   "source": [
    "import sys\n",
    "f=open('hatalar.txt','w')\n",
    "sys.stderr=f\n",
    "sys.stderr.write(1/0)"
   ]
  },
  {
   "cell_type": "markdown",
   "id": "78d3be5c-0b3f-45bb-995d-1d4f1cf63d39",
   "metadata": {},
   "source": [
    "buradaki bulundugunuz dizin içersinde kodlar hatalar.txt isminde bir dosya olusturucak ve terminale vermesi gereken hata mesajını hatalar.txt dosyasında göreceksiniz"
   ]
  },
  {
   "cell_type": "markdown",
   "id": "82bbb6b6-1ed5-415d-bd41-1812e40a1e07",
   "metadata": {
    "jp-MarkdownHeadingCollapsed": true,
    "tags": []
   },
   "source": [
    "## sys.stdin\n",
    "Bu fonksiyonun görevi, standart girdi konumuna girilen verileri okumaktır.<br>\n",
    "Python’daki standart girdi konumu __input()__ fonksiyonu ile __sys.stdin.read()__ fonksiyonu aynı işlevi görür<br>\n",
    " bize veri okumak için üç farklı fonksiyon sunar <li>1-sys.stdin.read() birden fazla satır içeren verilerin girilmesine müsaade eder ve _(çıktı olarak bir karakter dizisi verir</li>\n",
    " <li>2-sys.stdin.readline() tek bir satır içeren verilerin girilmesine müsaade eder ve çıktı olarak bir karakter dizisi verir </li>\n",
    " <li>3-sys.stdin.readlines() birden fazla satır içeren verilerin girilmesine müsaade eder ve çıktı olarak bir liste verir</li>"
   ]
  },
  {
   "cell_type": "code",
   "execution_count": 2,
   "id": "061c106c-0c99-49d6-9915-2cf2b28cbca5",
   "metadata": {},
   "outputs": [
    {
     "data": {
      "text/plain": [
       "''"
      ]
     },
     "execution_count": 2,
     "metadata": {},
     "output_type": "execute_result"
    }
   ],
   "source": [
    "import sys\n",
    "read=sys.stdin.read()\n",
    "read"
   ]
  },
  {
   "cell_type": "code",
   "execution_count": 3,
   "id": "76e4e09d-583d-4766-81e8-577d4b2b9a08",
   "metadata": {},
   "outputs": [
    {
     "data": {
      "text/plain": [
       "''"
      ]
     },
     "execution_count": 3,
     "metadata": {},
     "output_type": "execute_result"
    }
   ],
   "source": [
    "import sys\n",
    "readline=sys.stdin.readline()\n",
    "readline"
   ]
  },
  {
   "cell_type": "code",
   "execution_count": 4,
   "id": "98380e2d-4c6a-4264-a19e-847dcdc4bfe4",
   "metadata": {},
   "outputs": [
    {
     "data": {
      "text/plain": [
       "[]"
      ]
     },
     "execution_count": 4,
     "metadata": {},
     "output_type": "execute_result"
    }
   ],
   "source": [
    "import sys\n",
    "readlines=sys.stdin.readlines()\n",
    "readlines"
   ]
  },
  {
   "cell_type": "markdown",
   "id": "f49b387a-cb56-49bb-b410-20e393df49c8",
   "metadata": {},
   "source": [
    "şimdi kücük bir örnek yapalim bilgisayarinizda bir klasor olusturup içine kayit.py isminde bir dosya olusturun ve asagidaki kodlari yazdiktan sonra terminalden python yada python3 yazip kayit.py yazıp calistiralim"
   ]
  },
  {
   "cell_type": "code",
   "execution_count": null,
   "id": "90b5dda0-7e66-46ea-a019-0821f31f9759",
   "metadata": {},
   "outputs": [],
   "source": [
    "import sys\n",
    "\n",
    "with open('kayıtlar.txt', 'w') as kayıtlar:\n",
    "    while True:\n",
    "        satırlar = sys.stdin.readline()\n",
    "        if satırlar.strip() == ':q':\n",
    "            break\n",
    "        else:\n",
    "            kayıtlar.write(satırlar)"
   ]
  },
  {
   "cell_type": "code",
   "execution_count": null,
   "id": "632613f8-1dfb-4b24-99c7-ef225e9b2d3b",
   "metadata": {},
   "outputs": [],
   "source": [
    "kayit1"
   ]
  },
  {
   "cell_type": "code",
   "execution_count": null,
   "id": "f217ac56-e324-492c-a74b-1f9f77d3df2a",
   "metadata": {},
   "outputs": [],
   "source": [
    "kayit2"
   ]
  },
  {
   "cell_type": "code",
   "execution_count": null,
   "id": "abb70f99-c84f-4759-8d62-050bd0b9b2b9",
   "metadata": {},
   "outputs": [],
   "source": [
    ":q"
   ]
  },
  {
   "cell_type": "markdown",
   "id": "abc17ad1-4772-407b-a5ac-8f6480adcf0a",
   "metadata": {},
   "source": [
    "şimdi olusturudugumuz klasor içersine oku.py isminde bir dosya olusturalim asagidaki kodlari yazdiktan sonra terminalden python oku.py yazalım "
   ]
  },
  {
   "cell_type": "code",
   "execution_count": null,
   "id": "b503d616-3ea3-40a9-a4c5-c6804869100a",
   "metadata": {},
   "outputs": [],
   "source": [
    "import sys\n",
    "\n",
    "f = open('oku.txt')\n",
    "\n",
    "sys.stdin = f\n",
    "\n",
    "while True:\n",
    "    satırlar = sys.stdin.readline()\n",
    "    if satırlar.strip() == ':q':\n",
    "        break\n",
    "    else:\n",
    "        sys.stdout.write(satırlar)"
   ]
  },
  {
   "cell_type": "code",
   "execution_count": null,
   "id": "3aae2e67-fa7d-4080-914c-cfaa38c914c0",
   "metadata": {},
   "outputs": [],
   "source": []
  }
 ],
 "metadata": {
  "kernelspec": {
   "display_name": "Python 3 (ipykernel)",
   "language": "python",
   "name": "python3"
  },
  "language_info": {
   "codemirror_mode": {
    "name": "ipython",
    "version": 3
   },
   "file_extension": ".py",
   "mimetype": "text/x-python",
   "name": "python",
   "nbconvert_exporter": "python",
   "pygments_lexer": "ipython3",
   "version": "3.9.7"
  }
 },
 "nbformat": 4,
 "nbformat_minor": 5
}
